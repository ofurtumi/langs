{
 "cells": [
  {
   "cell_type": "markdown",
   "id": "f7b64845-0bd9-48dd-b823-a921b6c31daa",
   "metadata": {},
   "source": [
    "# Heimadæmi 2 - TÖL025M Inngangur að máltækni\n",
    "\n",
    "Þorvaldur Tumi Baldursson\n"
   ]
  },
  {
   "cell_type": "markdown",
   "id": "92fd1ea2-3404-4c29-8a75-f84e1f24c65e",
   "metadata": {},
   "source": [
    "## 1. Lemmetization\n"
   ]
  },
  {
   "cell_type": "code",
   "execution_count": 5,
   "id": "930388b9-1909-4279-ac60-3f54d25c9767",
   "metadata": {},
   "outputs": [],
   "source": [
    "from reynir import Greynir\n",
    "from collections import Counter\n",
    "import re\n",
    "\n",
    "with open(\"../data/all_stop_words.txt\") as f:\n",
    "    stops = list(f.read().split(\"\\n\"))\n",
    "\n",
    "with open(\"../data/log.txt\") as f:\n",
    "    data = f.read()[:20000]\n",
    "\n",
    "f_data = \" \".join(filter(lambda w: w not in stops, data.split()))\n",
    "\n",
    "words = re.sub(\"(.)([\\,\\.\\:\\!\\/\\?\\\"\\'\\„\\(\\)\\…\\´])[^.]\", r\"\\1 \\2 \", data).split()\n",
    "words = list(map(lambda w:w.lower(), words))\n",
    "\n",
    "top_words = sorted(dict(Counter(words)).items(), key=lambda x:x[1])\n",
    "\n",
    "f_words = re.sub(\"(.)([\\,\\.\\:\\!\\/\\?\\\"\\'\\„\\(\\)\\…\\´])[^.]\", r\"\\1 \\2 \", f_data).split()\n",
    "f_words = list(map(lambda w:w.lower(), f_words))\n",
    "\n",
    "f_top_words = sorted(dict(Counter(f_words)).items(), key=lambda x:x[1])\n",
    "\n",
    "g = Greynir()\n",
    "parsed_data = g.parse(data)\n",
    "f_parsed_data = g.parse(f_data)"
   ]
  },
  {
   "cell_type": "markdown",
   "id": "24125c55-231f-4fec-b6a0-7679f9184e68",
   "metadata": {},
   "source": [
    "### a)\n",
    "\n",
    "Ég fækkaði fjölda orða í upprunalegu útfærslunni niður í **20000** þar sem ég var að struggla við það að keyra Greyni á allt gagnasettið mitt\n",
    "\n",
    "Það er alveg slatta munur á milli minnar útfærslu og Greyni, sá greinilegasti er að mín útfærsla grípur töluvert fleiri kommur og punkta auk þess lætur Greynir okkur alveg sleppa við við orðmyndir eins og \"vera\" og fáum bara \"er\" í staðinn\n"
   ]
  },
  {
   "cell_type": "code",
   "execution_count": 7,
   "id": "2c28646f-e230-471f-9c88-bfddb248401b",
   "metadata": {},
   "outputs": [],
   "source": [
    "from collections import Counter\n",
    "\n",
    "def all_lemmas(sentences):\n",
    "    lemmas = []\n",
    "    if sentences is None:\n",
    "        return None\n",
    "    for s in sentences:\n",
    "        if s.lemmas is not None:\n",
    "            for l in s.lemmas:\n",
    "                lemmas.append(l)\n",
    "    return lemmas"
   ]
  },
  {
   "cell_type": "code",
   "execution_count": 3,
   "id": "0d8e5b12-7e3e-497d-a625-9d251f89b395",
   "metadata": {},
   "outputs": [
    {
     "name": "stdout",
     "output_type": "stream",
     "text": [
      "Greynir: {'.': 149, ',': 83, 'og': 69, 'ég': 50, 'vera': 50, 'á': 47, 'þú': 44, 'í': 43, 'að': 35, 'ef': 34}\n",
      "Tumi:    {'.': 283, ',': 280, 'og': 149, 'í': 91, 'á': 84, 'ég': 82, 'að': 76, 'er': 66, 'þú': 46, 'ef': 45}\n"
     ]
    }
   ],
   "source": [
    "AL = all_lemmas(parsed_data[\"sentences\"])\n",
    "top_lemmas = list(reversed(sorted(dict(Counter(AL)).items(), key=lambda x: x[1])))\n",
    "tumi_lemmas = list(reversed(sorted(dict(top_words).items(), key=lambda x: x[1])))\n",
    "\n",
    "print(\"Greynir:\", dict(top_lemmas[:10]))\n",
    "print(\"Tumi:   \", dict(tumi_lemmas[:10]))"
   ]
  },
  {
   "cell_type": "markdown",
   "id": "e4422b2a-9aa7-475b-a0e9-8654d6402657",
   "metadata": {},
   "source": [
    "### b)\n"
   ]
  },
  {
   "cell_type": "code",
   "execution_count": 4,
   "id": "ba33a07f-f52d-4e77-844a-930194c88414",
   "metadata": {},
   "outputs": [
    {
     "name": "stdout",
     "output_type": "stream",
     "text": [
      "Greynir: {'.': 102, ',': 62, 'vera': 14, 'kæta': 13, 'ef': 12, 'ég': 11, 'átta': 10, 'sofa': 10, 'ei': 8, 'ást': 8}\n",
      "Tumi:    {'.': 283, ',': 280, 'ja': 30, 'ég': 28, 'la': 25, 'ef': 23, 'kætist': 21, 'áttu': 17, 'í': 17, 'giftist': 16}\n"
     ]
    }
   ],
   "source": [
    "FAL = all_lemmas(f_parsed_data[\"sentences\"])\n",
    "f_top_lemmas = list(reversed(sorted(dict(Counter(FAL)).items(), key=lambda x: x[1])))\n",
    "f_tumi_lemmas = list(reversed(sorted(dict(f_top_words).items(), key=lambda x: x[1])))\n",
    "\n",
    "print(\"Greynir:\", dict(f_top_lemmas[:10]))\n",
    "print(\"Tumi:   \", dict(f_tumi_lemmas[:10]))"
   ]
  },
  {
   "cell_type": "markdown",
   "id": "d1866f55-5d5b-46c5-b2f8-b16a43f211f3",
   "metadata": {},
   "source": [
    "### c)\n"
   ]
  },
  {
   "cell_type": "markdown",
   "id": "c4bf7842-2c84-42c3-a57c-cb09678bde40",
   "metadata": {},
   "source": [
    "Lemmun hjálpar til við að staðla setningar, ef allar þær setningar sem við vinnum með hafa farið í gegnum lemmun þá endum við með orð á sama formi sem einfaldar ýmis konar *\"post process\"* vinnu.\n",
    "Til að nefna dæmi um hluti sem lemmun hjálpar við væri hægt að nefna það að minnka stærð textasafns, ef við höfum bara lemmuðu orðin þá þurfum við ekki að halda utan um allar beygingar og breytingar.\n",
    "Hinsvegar getur lemmun líka tekið í burtu meiningu ef við erum td. að þýða úr íslensku yfir á ensku."
   ]
  },
  {
   "cell_type": "markdown",
   "id": "5e097019-5d5a-4a98-830b-e34ce6f8600b",
   "metadata": {},
   "source": [
    "## 2. Parsing\n"
   ]
  },
  {
   "cell_type": "markdown",
   "id": "b812b29f-6158-4322-9afd-696745153bc7",
   "metadata": {},
   "source": [
    "### a) Sjá efsta code block\n"
   ]
  },
  {
   "cell_type": "markdown",
   "id": "52ded1ea-a143-4bf8-9f5f-fe3f1b81fba1",
   "metadata": {},
   "source": [
    "### b)\n"
   ]
  },
  {
   "cell_type": "code",
   "execution_count": 5,
   "id": "14e43206-c414-4fff-945f-26e88b8a0b66",
   "metadata": {},
   "outputs": [],
   "source": [
    "def top_phrases(data, type):\n",
    "    PS = []\n",
    "    for sent in [p for p in data if p and p.tree and p.ifd_tags]:\n",
    "        for np in [p for p in sent.tree.all_matches(type)]:\n",
    "            PS.append(np.canonical_np)\n",
    "    return dict(Counter(PS).most_common(10))"
   ]
  },
  {
   "cell_type": "code",
   "execution_count": 6,
   "id": "683da81d-45f6-4e6a-961a-93a8bd9c1d3f",
   "metadata": {},
   "outputs": [
    {
     "name": "stdout",
     "output_type": "stream",
     "text": [
      "{'þú': 41, 'ég': 38, 'hann': 9, 'það': 8, 'Ég': 8, 'Ást': 6, 'mjólkurbíll': 6, 'glaðværð þín': 5, 'ónei': 4, 'fyrstur': 4}\n"
     ]
    }
   ],
   "source": [
    "print(top_phrases(parsed_data[\"sentences\"], \"NP\"))"
   ]
  },
  {
   "cell_type": "markdown",
   "id": "0031dbf6-bfb1-4f41-9e97-a4ee074e6147",
   "metadata": {},
   "source": [
    "### c)\n"
   ]
  },
  {
   "cell_type": "code",
   "execution_count": 7,
   "id": "52521e74-5f90-465d-8d0a-8f596e32e794",
   "metadata": {},
   "outputs": [
    {
     "name": "stdout",
     "output_type": "stream",
     "text": [
      "{'er': 38, 'kætist': 18, 'áttu': 18, 'sefur': 15, 'giftist': 12, 'detta': 7, 'var': 6, 'á': 6, 'verður': 5, 'skal': 5}\n"
     ]
    }
   ],
   "source": [
    "print(top_phrases(parsed_data[\"sentences\"], \"VP\"))"
   ]
  },
  {
   "cell_type": "markdown",
   "id": "4467898c-66bc-4045-8c56-349bb3b845d6",
   "metadata": {},
   "source": [
    "### d)\n"
   ]
  },
  {
   "cell_type": "code",
   "execution_count": 8,
   "id": "e43298f3-b002-4a03-b8b7-2e9668f3bb05",
   "metadata": {},
   "outputs": [
    {
     "name": "stdout",
     "output_type": "stream",
     "text": [
      "['Ási', 'eiga', 'Á', 'á', 'á', 'í', 'á', '.']\n",
      "['Galsinna', 'gíraffi', 'í', 'gannisslag', '.']\n",
      "['Tóti', 'fara', 'og', 'fara', 'í', 'kórferð', '.']\n",
      "['áll', 'í', 'áll', 'á', 'lá', 'á', 'áll', 'mála', 'við', 'hlið', 'á', 'stál', 'skál', '.']\n"
     ]
    }
   ],
   "source": [
    "ruglandi = [\n",
    "    \"Ási á Á á á í á.\", \n",
    "    \"Galsinna gíraffar í gannisslag.\", \n",
    "    \"Tóti fór og fórst í kórferðinni.\", \n",
    "    \"Áll í ál á lá á ál máli við hliðina á stál skál.\"\n",
    "]\n",
    "\n",
    "print(g.parse_single(ruglandi[0]).tree.lemmas)\n",
    "print(g.parse_single(ruglandi[1]).tree.lemmas)\n",
    "print(g.parse_single(ruglandi[2]).tree.lemmas)\n",
    "print(g.parse_single(ruglandi[3]).tree.lemmas)"
   ]
  },
  {
   "cell_type": "markdown",
   "id": "039564a1-e4e1-4f13-8382-3900f4515f24",
   "metadata": {},
   "source": [
    "Mér tókst að lokum að rugla Greyni þó ekki mikið, hann er að rugla áli (málminum) við ál (fiskinn? dýrið?) auk þess sem hann heldur að mál (ílát) sé sögnin að mála\n"
   ]
  },
  {
   "cell_type": "markdown",
   "id": "ea8e6e23-80d5-4a36-a0e9-3687c78d3102",
   "metadata": {},
   "source": [
    "## 3 - getting creative\n"
   ]
  },
  {
   "cell_type": "code",
   "execution_count": 10,
   "id": "3fcddc09-54a0-4426-a6f2-5eb04e318f37",
   "metadata": {},
   "outputs": [],
   "source": [
    "from reynir import Greynir\n",
    "g = Greynir()\n",
    "\n",
    "# byrjum á að lemma alla textana sem hægt er að leita í \n",
    "search_lemmas = {}\n",
    "texts = {\n",
    "    \"s1\": \"Siggi var úti\",\n",
    "    \"s2\": \"Laus og liðuugur\",\n",
    "    \"s3\": \"Snati og Óli\",\n",
    "    \"s4\": \"Sofðu unga ástin mín\",\n",
    "    \"s5\": \"Ég á lítinn skrýtinn skugga\",\n",
    "    \"s6\": \"Komdu kisa mín\",\n",
    "    \"s7\": \"Kvæðið um fuglana\",\n",
    "    \"s8\": \"Krummi krunkar úti\",\n",
    "    \"s9\": \"Til eru fræ\",\n",
    "    \"s10\": \"Lagið um það sem er bannað\",\n",
    "    \"s11\": \"Litla flugan\",\n",
    "    \"s12\": \"Lóan er komin\",\n",
    "    \"s13\": \"Maístjarnan\",\n",
    "    \"s14\": \"Ó blessuð vertu sumarsól\",\n",
    "    \"s15\": \"Söknuður\"\n",
    "}\n",
    "num_texts = len(texts)\n",
    "\n",
    "for i in range(num_texts):\n",
    "    filename = f\"s{i+1}\"\n",
    "    with open(f\"../data/search/{filename}.txt\") as file:\n",
    "        # search_lemmas[filename] = g.parse(file.read())\n",
    "        current_lemmas = []\n",
    "        for sent in g.parse(file.read())[\"sentences\"]:\n",
    "            if sent.lemmas is not None:\n",
    "                for l in sent.lemmas:\n",
    "                    current_lemmas.append(l)\n",
    "        \n",
    "        search_lemmas[filename] = current_lemmas"
   ]
  },
  {
   "cell_type": "code",
   "execution_count": 12,
   "id": "6488f404",
   "metadata": {},
   "outputs": [],
   "source": [
    "def search_texts(search_string = None):\n",
    "    if search_string is None:\n",
    "        return None\n",
    "\n",
    "    # lemmum search strenginn\n",
    "    search_string_lemmas = []\n",
    "    for sent in g.parse(search_string)[\"sentences\"]:\n",
    "        if sent.lemmas is not None:\n",
    "            for l in filter(lambda x: x not in stops, sent.lemmas):\n",
    "                search_string_lemmas.append(l)\n",
    "\n",
    "    # leitum nú í gegnum lemmurnur frá textunum og gefum þeim stig eftir því hversu oft þau koma fyrir\n",
    "    search_results = {}\n",
    "    output = dict()\n",
    "    for filename, lemmas in search_lemmas.items():\n",
    "        search_results[filename] = 0\n",
    "        for lemma in lemmas:\n",
    "            if lemma in search_string_lemmas:\n",
    "                search_results[filename] += 1\n",
    "\n",
    "    # prentum út niðurstöðurnar\n",
    "    result = Counter(search_results)\n",
    "    if result.total() == 0:\n",
    "        print(\"Engar niðurstöður fundust\")\n",
    "    else:\n",
    "        top_result = result.most_common(1)[0]\n",
    "        with open(f\"../data/search/{top_result[0]}.txt\") as file:\n",
    "            output[\"search\"] =  search_string_lemmas\n",
    "            output[\"top_hit\"] = f\"{texts[top_result[0]]}\" \n",
    "            output[\"full_text\"] =  file.read()\n",
    "            return output\n",
    "    \n"
   ]
  },
  {
   "cell_type": "code",
   "execution_count": 15,
   "id": "03c6c93b",
   "metadata": {},
   "outputs": [
    {
     "name": "stdout",
     "output_type": "stream",
     "text": [
      "Leitarlemmur:  ['stjarna', 'sól']\n",
      "Efsta match:    Maístjarnan\n"
     ]
    }
   ],
   "source": [
    "s = search_texts(\"stjörnurnar og sólin\")\n",
    "print(\"Leitarlemmur: \", s[\"search\"])\n",
    "print(\"Efsta match:   \", s[\"top_hit\"])"
   ]
  },
  {
   "cell_type": "code",
   "execution_count": 16,
   "id": "6076b5cc",
   "metadata": {},
   "outputs": [
    {
     "name": "stdout",
     "output_type": "stream",
     "text": [
      "Leitarlemmur:  ['jól', 'kaka']\n",
      "Efsta match:    Snati og Óli\n"
     ]
    }
   ],
   "source": [
    "s = search_texts(\"jól og kaka\")\n",
    "print(\"Leitarlemmur: \", s[\"search\"])\n",
    "print(\"Efsta match:   \", s[\"top_hit\"])"
   ]
  },
  {
   "cell_type": "code",
   "execution_count": 17,
   "id": "ebb39cc0",
   "metadata": {},
   "outputs": [
    {
     "name": "stdout",
     "output_type": "stream",
     "text": [
      "Leitarlemmur:  ['lag', 'sofa', 'barn', 'nótt']\n",
      "Efsta match:    Sofðu unga ástin mín\n"
     ]
    }
   ],
   "source": [
    "s = search_texts(\"lag um sofandi barn og nóttina\")\n",
    "print(\"Leitarlemmur: \", s[\"search\"])\n",
    "print(\"Efsta match:   \", s[\"top_hit\"])"
   ]
  },
  {
   "cell_type": "markdown",
   "id": "dae9a4d3",
   "metadata": {},
   "source": [
    "## 4\n",
    "### 1.)\n",
    "\n",
    "Í kerfum til að þýða texta eða önnur form af máli er mjög mikilvægt að hafa réttar skilgreiningar útfrá upphaflega textanum. Það er yfirleitt ekki nóg að þýða einfaldlega orð fyrir orð. \n",
    "Þessar týpur af villum voru algengar í *google translate* þegar það var fyrst að koma fram í sviðsljósið. \n",
    "Þetta eru villur á borð við þýðinguna \"Ég sá mann með sjónauka\", það mætti túlka þessa setningu á tvo vegu, \"ég sá mann og hann var með sjónauka\" eða \"ég var að nota sjónauka og sá þannig mann\". \n",
    "\n",
    "Ef við pörsum textann áður en við þýðum hann getum við fengið þau orð sem eiga saman í hóp sem einfaldar að fá rétta þýðingu.\n",
    "\n",
    "### 2.)\n",
    "Fyrir einfalt sentiment analysis þar sem við höfum bara tvo flokka, vont og gott, myndi lemmun líklega ekki hamla okkur mikið.\n",
    "Hinsvegar þegar við förum að bæta við fleiri og fleiri flokkum, geta leynst meiri og meiri upplýsingar innan beyginga og áherslu orða sem gæti horfið við lemmunina.\n",
    "\n",
    "Fyrir keyword extraction getur verið gott að lemma fyrst, lemmunin kemur í veg fyrir að við höfum mörg samheiti fyrir sömu orðin til þess að fylgjast með, td get strengirnir *\"áhugamálið mitt er hlaup\"* og *\"ég elska að vera á hlaupum\"* verið tengdir báðir við orðið *\"hlaupa\"*\n",
    "\n",
    "Fyrir auto paraphrasing erum við að fá sömu bónusa og fyrir keyword extraction. Þar sem að búið er að brjóta setningu niður í sína minnstu bita án þess að breyta meiningunni er auðvelt að bæta við orðum á milli eða breyta röð til þess að fá sömu meiningu án þess að nota alveg sömu orð."
   ]
  }
 ],
 "metadata": {
  "kernelspec": {
   "display_name": "Python 3 (ipykernel)",
   "language": "python",
   "name": "python3"
  },
  "language_info": {
   "codemirror_mode": {
    "name": "ipython",
    "version": 3
   },
   "file_extension": ".py",
   "mimetype": "text/x-python",
   "name": "python",
   "nbconvert_exporter": "python",
   "pygments_lexer": "ipython3",
   "version": "3.11.4"
  }
 },
 "nbformat": 4,
 "nbformat_minor": 5
}
