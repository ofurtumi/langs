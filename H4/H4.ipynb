{
 "cells": [
  {
   "cell_type": "markdown",
   "metadata": {},
   "source": [
    "# 1. Levenshtein-distance "
   ]
  },
  {
   "cell_type": "code",
   "execution_count": 189,
   "metadata": {},
   "outputs": [],
   "source": [
    "def distance(w1, w2, i, j):\n",
    "    if i == 0: return j\n",
    "    if j == 0: return i\n",
    "\n",
    "    # ef stafirnir eru eins þá þurfum við ekki að gera neitt \n",
    "    if w1[i - 1] == w2[j - 1]: return distance(w1, w2, i - 1, j - 1)\n",
    "    \n",
    "    possibilities = [\n",
    "        distance(w1, w2, i, j - 1),\n",
    "        distance(w1, w2, i - 1, j),\n",
    "        distance(w1, w2, i - 1, j - 1)\n",
    "    ]\n",
    "\n",
    "    return min(possibilities) + 1\n",
    "\n",
    "def dist(w1, w2):\n",
    "    d = distance(w1, w2, len(w1), len(w2))\n",
    "    print(f\"fjarlægð á milli {w1} og {w2}: {d}\")"
   ]
  },
  {
   "cell_type": "code",
   "execution_count": 190,
   "metadata": {},
   "outputs": [
    {
     "name": "stdout",
     "output_type": "stream",
     "text": [
      "fjarlægð á milli kisa og peysa: 3\n",
      "fjarlægð á milli ofurtumi og tumi_tigur: 9\n",
      "fjarlægð á milli írakabakarí og ribbaldri: 7\n",
      "fjarlægð á milli abcd og dcba: 4\n"
     ]
    }
   ],
   "source": [
    "dist(\"kisa\", \"peysa\")\n",
    "dist(\"ofurtumi\", \"tumi_tigur\")\n",
    "dist(\"írakabakarí\", \"ribbaldri\")\n",
    "dist(\"abcd\", \"dcba\")"
   ]
  },
  {
   "cell_type": "markdown",
   "metadata": {},
   "source": [
    "# 2. Dictionary lookup"
   ]
  },
  {
   "cell_type": "code",
   "execution_count": 191,
   "metadata": {},
   "outputs": [],
   "source": [
    "import re\n",
    "# skiptum textanum okkar í einstök orð\n",
    "with open(\"../data/log.txt\", \"r\") as f:\n",
    "    text = f.read()\n",
    "    words = text.split()\n",
    "\n",
    "f = re.compile(\"^\\w+$\")\n",
    "words = [w for w in list(set(words)) if f.match(w)]"
   ]
  },
  {
   "cell_type": "code",
   "execution_count": 192,
   "metadata": {},
   "outputs": [],
   "source": [
    "def find_errors(sent):\n",
    "    errors = []\n",
    "    for w in sent.split():\n",
    "        if w not in words:\n",
    "            errors.append(w)\n",
    "    return errors\n",
    "\n",
    "def show_errors(sent):\n",
    "    errors = find_errors(sent)\n",
    "    print(f\"{len(errors)} villur í \\\"{sent}\\\"\")\n",
    "    print(f\"villur: {errors}\")\n",
    "    print()"
   ]
  },
  {
   "cell_type": "code",
   "execution_count": 193,
   "metadata": {},
   "outputs": [
    {
     "name": "stdout",
     "output_type": "stream",
     "text": [
      "2 villur í \"Þeta er einn stórur villa\"\n",
      "villur: ['Þeta', 'stórur']\n",
      "\n",
      "1 villur í \"ég er bara ótrúlega góur að skrifa\"\n",
      "villur: ['góur']\n",
      "\n",
      "2 villur í \"Get ég skrifað setningu án villna\"\n",
      "villur: ['setningu', 'villna']\n",
      "\n",
      "0 villur í \"svo virðist ekki vera\"\n",
      "villur: []\n",
      "\n"
     ]
    }
   ],
   "source": [
    "show_errors(\"Þeta er einn stórur villa\")\n",
    "show_errors(\"ég er bara ótrúlega góur að skrifa\")\n",
    "show_errors(\"Get ég skrifað setningu án villna\")\n",
    "show_errors(\"svo virðist ekki vera\")"
   ]
  },
  {
   "cell_type": "markdown",
   "metadata": {},
   "source": [
    "# 3. ICE BERT ICE BERT ICE BERT"
   ]
  },
  {
   "cell_type": "code",
   "execution_count": 194,
   "metadata": {},
   "outputs": [],
   "source": [
    "from transformers import pipeline\n",
    "icebert = pipeline(\"fill-mask\", model=\"mideind/IceBERT\")"
   ]
  },
  {
   "cell_type": "code",
   "execution_count": 195,
   "metadata": {},
   "outputs": [],
   "source": [
    "def bertify(sent):\n",
    "    print(sent)\n",
    "    errors = find_errors(sent)\n",
    "    corrections = []\n",
    "    for e in errors:\n",
    "        temp_sent = sent.replace(e, \"<mask>\")\n",
    "        iceberts = icebert(temp_sent)\n",
    "        print(temp_sent)\n",
    "        ib_suggestions = [icb[\"token_str\"] for icb in iceberts]\n",
    "        print(ib_suggestions)\n",
    "        lev_dists = []\n",
    "        for s in ib_suggestions:\n",
    "            d = distance(e, s, len(e), len(s))\n",
    "            lev_dists.append(d)\n",
    "            print(f\"{e} -> {s}: {d}\")\n",
    "        corrections.append(ib_suggestions[lev_dists.index(min(lev_dists))])\n",
    "    \n",
    "    for i in range(len(errors)):\n",
    "        sent = sent.replace(errors[i], corrections[i])\n",
    "    return sent\n",
    "    \n",
    "def silent_bertify(sent):\n",
    "    errors = find_errors(sent)\n",
    "    corrections = []\n",
    "    for e in errors:\n",
    "        temp_sent = sent.replace(e, \"<mask>\")\n",
    "        iceberts = icebert(temp_sent)\n",
    "        ib_suggestions = [icb[\"token_str\"] for icb in iceberts]\n",
    "        lev_dists = []\n",
    "        for s in ib_suggestions:\n",
    "            d = distance(e, s, len(e), len(s))\n",
    "            lev_dists.append(d)\n",
    "        corrections.append(ib_suggestions[lev_dists.index(min(lev_dists))])\n",
    "    \n",
    "    for i in range(len(errors)):\n",
    "        sent = sent.replace(errors[i], corrections[i])\n",
    "    return sent\n"
   ]
  },
  {
   "cell_type": "code",
   "execution_count": 205,
   "metadata": {},
   "outputs": [
    {
     "name": "stdout",
     "output_type": "stream",
     "text": [
      "Þeta er ein stór villa\n",
      "<mask> er ein stór villa\n",
      "[' Þetta', ' Það', ' Hér', ' þetta', ' Ég']\n",
      "Þeta ->  Þetta: 2\n",
      "Þeta ->  Það: 4\n",
      "Þeta ->  Hér: 4\n",
      "Þeta ->  þetta: 3\n",
      "Þeta ->  Ég: 4\n",
      " Þetta er ein stór villa\n"
     ]
    }
   ],
   "source": [
    "print(bertify(\"Þeta er ein stór villa\"))"
   ]
  },
  {
   "cell_type": "code",
   "execution_count": 207,
   "metadata": {},
   "outputs": [
    {
     "name": "stdout",
     "output_type": "stream",
     "text": [
      "ég er bara ótrúlega  fljót að skrifa\n",
      "Get ég skrifað  texta án  þín\n",
      "svo virðist ekki vera\n",
      "Hvað slær  hann herra minn\n"
     ]
    }
   ],
   "source": [
    "print(silent_bertify(\"ég er bara ótrúlega fljóur að skrifa\"))\n",
    "print(silent_bertify(\"Get ég skrifað setningu án villna\")) # vá rómantíkus bara\n",
    "print(silent_bertify(\"svo virðist ekki vera\"))\n",
    "print(silent_bertify(\"Hvað slær klukkn herra minn\")) # ???"
   ]
  },
  {
   "cell_type": "markdown",
   "metadata": {},
   "source": [
    "# 4. QnA"
   ]
  },
  {
   "cell_type": "code",
   "execution_count": 198,
   "metadata": {},
   "outputs": [],
   "source": [
    "# Use a pipeline as a high-level helper\n",
    "from transformers import pipeline\n",
    "\n",
    "pipe = pipeline(\"question-answering\", model=\"saattrupdan/icebert-texas-squad-is\")"
   ]
  },
  {
   "cell_type": "code",
   "execution_count": 199,
   "metadata": {},
   "outputs": [
    {
     "name": "stdout",
     "output_type": "stream",
     "text": [
      "Hvenær fór sala á íslandsbanka fram? -> mars 2022\n",
      "Hvar brást Bjarna? -> þegar hann samþykkti tillögu Bankasýslunnar um söluna\n",
      "Hver átti einkahlutafélag sem var á meðal kaupenda? -> föður fjármála- og efnahagsráðherra\n",
      "Hvernig vill umboðsmaður að framkvæmd sé hagað? -> þannig að framkvæmd þeirra samrýmist lögum\n",
      "Hvar býr umboðsmaður -> einkahlutafélag föður fjármála- og efnahagsráðherra\n"
     ]
    }
   ],
   "source": [
    "qa_context = \"\"\"\n",
    "Hæfi, undirbúningur og ábyrgð við sölu á Íslandsbanka\n",
    "Í ljósi þess að einkahlutafélag föður fjármála- og efnahagsráðherra var á meðal kaupenda að 22,5% hlut ríkisins í Íslandsbanka sem seldur var í mars 2022 brast hann hæfi þegar hann samþykkti tillögu Bankasýslunnar um söluna. Þetta er niðurstaða umboðsmanns Alþingis í áliti hans 5. október 2023.\n",
    "Að mati umboðsmanns getur það ekki haggað niðurstöðunni þótt ekkert hafi komið fram sem gefi tilefni til að draga í efa staðhæfingu ráðherra um að honum hafi á þeim tíma verið ókunnugt um þátttöku félagsins. Þá geti það heldur ekki ráðið úrslitum þótt hætta á því að ómálefnaleg sjónarmið hefðu áhrif á afstöðu ráðherra væri minni en ella sökum þess hvernig sölumeðferðinni var háttað, þáttur félagsins í heildarsölunni óverulegur og ganga verði út frá því að það hafi setið við sama borð og sambærilegir bjóðendur þegar Bankasýslan tók afstöðu til einstakra tilboða.\n",
    "Umboðsmaður telur sig ekki hafa forsendur til að leggja mat á þá staðhæfingu ráðherra að óraunhæft hefði verið að skoða tengsl hans við einstaka bjóðendur með hliðsjón af því hvernig sölunni var fyrir komið. Í því sambandi bendir hann hins vegar á mikilvægi þess að undirbúningi mála sé hagað þannig að framkvæmd þeirra samrýmist lögum. Telji stjórnvöld rök standa til þess að haga beri meðferð máls á þann hátt að reglur um sérstakt hæfi eigi ekki við um tiltekin atriði beri að leita viðeigandi leiða í því sambandi. Ráðherra geti t.a.m. lagt fram frumvarp til lagabreytinga í þessu skyni og sé það þá Alþingis að meta hvort tilteknar aðstæður réttlæti að tilteknir eða allir þættir málsmeðferðar séu undanskildir reglum um sérstakt hæfi.\n",
    "Umboðsmaður telur að það hefði verið í betra samræmi við upplýsingalög og vandaða stjórnsýsluhætti að afstaða til þess hvernig reglur um sérstakt hæfi horfðu við sölunni hefði komið fram í skriflegum gögnum við undirbúning málsins. Þannig hefði m.a. Alþingi gefist kostur á að gera athugasemdir við þetta atriði. Annmarkar að þessu leyti hafi skapað hættu á að ákvörðun ráðherra um að samþykkja tillögu Bankasýslunnar um söluna samrýmdist ekki reglum um sérstakt hæfi og þá með þeim afleiðingum að grafið væri undan trausti almennings á þessari ráðstöfun ríkisins. Er í því tilliti vísað til almenns tilgangs hæfisreglna og þeirra markmiða sem Alþingi hefur sérstaklega stefnt að með löggjöf á þessu sviði.\n",
    "Það er álit umboðsmanns að stjórnsýsla ráðherra við undirbúning sölumeðferðarinnar hafi ekki verið í nægilega góðu samræmi við stjórnunar- og eftirlitsskyldu hans gagnvart Bankasýslu ríkisins m.t.t. þess hvernig reglur um sérstakt hæfi horfðu við. Í þessu sambandi tekur umboðsmaður fram að þáttur Bankasýslunnar, sem annaðist undirbúning sölunnar, hafi ekki verið til sjálfstæðrar skoðunar.\n",
    "Umboðsmaður vísar til þess að ráðherra hafi upplýst að unnið sé að að nýju regluverki um ráðstöfun ríkisins á hlutum í fjármálafyrirtækjum og í þeirri vinnu sé m.a. til skoðunar hvernig aðkomu ráðherra verði best háttað við ráðstöfun á borð við þá sem hér um ræðir og þá að fenginni reynslu og þeim lærdómi sem dreginn verði af henni. Umboðsmaður mælist til þess að ráðherra hafi álitið í huga við þessa endurskoðun sem og frekari sölu hluta í fjármálafyrirtækjum. Þá er áréttað að með umfjöllun sinni hafi umboðsmaður ekki tekið afstöðu til hugsanlegra einkaréttarlegra afleiðinga þeirra lagalegu annmarka sem um er fjallað.\n",
    "\"\"\"\n",
    "\n",
    "def question(q):\n",
    "    answer = pipe({\"question\": q,\"context\": qa_context})['answer']\n",
    "    return f\"{q} -> {answer}\"\n",
    "\n",
    "print(question(\"Hvenær fór sala á íslandsbanka fram?\"))\n",
    "print(question(\"Hvar brást Bjarna?\"))\n",
    "print(question(\"Hver átti einkahlutafélag sem var á meðal kaupenda?\"))\n",
    "print(question(\"Hvernig vill umboðsmaður að framkvæmd sé hagað?\"))\n",
    "print(question(\"Hvar býr umboðsmaður\")) # plot twist"
   ]
  },
  {
   "cell_type": "markdown",
   "metadata": {},
   "source": [
    "Módelið virðist skilja hnitmiðaðar spurningar mjög vel, það hefði verið áhugavert að sjá það vinna með fleiri nefnda aðila og athuga hvort það þekkti þá í sundur."
   ]
  },
  {
   "cell_type": "markdown",
   "metadata": {},
   "source": [
    "# 5. Lokaverkefni\n",
    "\n",
    "Ég er að pæla í að búa til gagnasafn af íslesnkum lagatextum. Þetta yrði samansafn af dægurlögum, popplögum og í raun bara öllu sem ég get komið höndum mínum yfir.\n",
    "\n",
    "Til þess að búa til þetta gagnasafn mun ég fara í gegnum þær fjölmörgu síður á netinu sem innihalda texta, guitarparty, snerpa, glatkistan, sol.heimsnet, og skrapa af þeim textana. Ég hugsa að ég myndi reyna að nota beautiful soup fyrir þetta, hef ekki notað þann pakka áður þannig það verður áhugavert, en annars hef ég meiri reynslu í javascript þannig það væri möguleiki líka.\n",
    "Ég myndi svo hreinsa gögnin og hugsanlega þjálfa generative módel á þeim.\n",
    "\n",
    "Hér er dæmi um útfærslu, hún er ekki góð en ætti að virka með smá fiffi"
   ]
  },
  {
   "cell_type": "code",
   "execution_count": 239,
   "metadata": {},
   "outputs": [
    {
     "data": {
      "text/plain": [
       "['Á kránni',\n",
       " '\\t\"Ó, pabbi minn kæri, æ komdu með mér heim,\\r',\n",
       " 'sko, klukkan er senn orðin eitt.\\r',\n",
       " 'Þú lofaðir í morgun að koma snemma í kveld,\\r',\n",
       " 'á knæpunni að tefja ekki neitt.\\r',\n",
       " 'Nú er eldurinn dauður og allt er orðið kalt,\\r',\n",
       " 'og enn bíður mamma eftir þér,\\r',\n",
       " 'hún situr með hann Villa litla, sjúkur er hann;\\r',\n",
       " 'og sáralítil hjálp er að mér\"-\\r',\n",
       " 'Viðlag:  Kom heim, kom heim,\\r',\n",
       " 'æ, pabbi minn kæri, kom heim.',\n",
       " '\"Ó, pabbi minn kæri, æ komdu með mér heim,\\r',\n",
       " 'sko, klukkan slær tvö - fylgdu mér,\\r',\n",
       " 'það kólnar, og hann Villi litli er veikari en fyrr\\r',\n",
       " 'hann var þó að spyrja eftir þér - ',\n",
       " 'Og segir það hún mamma mín, ef þyngi honum enn,\\r',\n",
       " 'að þá muni hann deyja í nótt,\\r',\n",
       " 'og þessar fréttir bað hún mig að bera til þín,\\r',\n",
       " 'æ, blessaður komdu nú fljótt.\\r',\n",
       " 'Viðlag...',\n",
       " '\"Ó, pabbi minn kæri, æ komdu með mér heim,\\r',\n",
       " 'sko klukkan er senn orðin þrjú,\\r',\n",
       " 'og tíminn er svo langur og tómlegt heima er allt,\\r',\n",
       " 'við tvær erum aleinar nú.',\n",
       " 'Því Villi litli er dáinn, já, drottinn minn hann tók,\\r',\n",
       " 'og deyjandi spurði hann um þig.\\r',\n",
       " 'Hann kallaði á þig pabbi minn,og bauð þér góða nótt,\\r',\n",
       " 'og bað þig að kyssa sig.',\n",
       " 'viðlag...Erl. lag / Sigurður Júl Jóhannesson']"
      ]
     },
     "execution_count": 239,
     "metadata": {},
     "output_type": "execute_result"
    }
   ],
   "source": [
    "from bs4 import BeautifulSoup\n",
    "import urllib3\n",
    "\n",
    "page = urllib3.request(\"GET\", \"https://www.snerpa.is/allt_hitt/textasafn/A_kranni/\")\n",
    "html_data = page.data.decode(\"utf-8\")\n",
    "soup = BeautifulSoup(html_data, 'html.parser')\n",
    "def simple_cleaner (sent):\n",
    "    sent = re.sub(r'[^ \\w\\.]', '',sent)\n",
    "    if sent == \"\": return False\n",
    "    return sent\n",
    "\n",
    "text = [t for t in soup.article.text.split(\"\\n\") if t != \"\"]\n",
    "text = list(filter(simple_cleaner, text))\n",
    "text"
   ]
  },
  {
   "cell_type": "code",
   "execution_count": null,
   "metadata": {},
   "outputs": [],
   "source": []
  }
 ],
 "metadata": {
  "kernelspec": {
   "display_name": "Python 3",
   "language": "python",
   "name": "python3"
  },
  "language_info": {
   "codemirror_mode": {
    "name": "ipython",
    "version": 3
   },
   "file_extension": ".py",
   "mimetype": "text/x-python",
   "name": "python",
   "nbconvert_exporter": "python",
   "pygments_lexer": "ipython3",
   "version": "3.11.4"
  }
 },
 "nbformat": 4,
 "nbformat_minor": 2
}
