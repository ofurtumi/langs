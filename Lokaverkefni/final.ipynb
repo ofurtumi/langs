{
 "cells": [
  {
   "cell_type": "markdown",
   "metadata": {},
   "source": [
    "# einfaldur filter"
   ]
  },
  {
   "cell_type": "code",
   "execution_count": 14,
   "metadata": {},
   "outputs": [],
   "source": [
    "import re\n",
    "def simple_cleaner (sent):\n",
    "    sent = re.sub(r\"[^ \\w.]\", \"\",sent)\n",
    "    if sent == \"\": return\n",
    "    sent = re.sub(r\"[\\n\\t\\r]*\", \"\", sent)\n",
    "    sent = re.sub(r\"\\s+\", \" \", sent)\n",
    "    sent = sent.strip()\n",
    "    if sent == \"\": return\n",
    "    return sent"
   ]
  },
  {
   "cell_type": "markdown",
   "metadata": {},
   "source": [
    "# Snerpa.is"
   ]
  },
  {
   "cell_type": "code",
   "execution_count": 15,
   "metadata": {},
   "outputs": [],
   "source": [
    "from bs4 import BeautifulSoup\n",
    "import urllib3\n",
    "import json\n",
    "\n",
    "def snerpa():\n",
    "    with open ('./scraping/snerpa_links.json') as f:\n",
    "        snerpa_links = json.load(f)\n",
    "\n",
    "    page_data = {}\n",
    "    num = len(snerpa_links)\n",
    "\n",
    "    for (i, link) in enumerate(snerpa_links, 1):\n",
    "        page = urllib3.request(\"GET\", link)\n",
    "        html_data = page.data\n",
    "        soup = BeautifulSoup(html_data, 'html.parser')\n",
    "\n",
    "        all_text = soup.find('article')\n",
    "        author = all_text.find('em')\n",
    "        if author != None:\n",
    "            author.extract()\n",
    "        \n",
    "        for br in soup.find_all(\"br\"):\n",
    "            br.replace_with(\"\\n\")\n",
    "\n",
    "        text = [t for t in re.split(r\"(\\n)\", all_text.text) if t != \"\"]\n",
    "        text = [t for t in list(map(simple_cleaner, text)) if t != None]\n",
    "\n",
    "        as_string = text[1:]\n",
    "        page_data[text[0]] = as_string\n",
    "        print(f\"{i}/{num}\", end='\\r')\n",
    "\n",
    "    return page_data"
   ]
  },
  {
   "cell_type": "markdown",
   "metadata": {},
   "source": [
    "# Sol.heimsnet.is"
   ]
  },
  {
   "cell_type": "code",
   "execution_count": 16,
   "metadata": {},
   "outputs": [],
   "source": [
    "def heimsnet():\n",
    "    page_data = {}\n",
    "    \n",
    "    with open('./solnet.txt') as f:\n",
    "        log = f.read().split('\\n')\n",
    "\n",
    "    current_title = simple_cleaner( log[0] )\n",
    "    current_lyrics = []\n",
    "    for line in log:\n",
    "        if line == \"---\":\n",
    "            page_data[current_title] = current_lyrics\n",
    "            current_title = \"\"\n",
    "            current_lyrics = []\n",
    "            continue\n",
    "        if current_title == \"\":\n",
    "            current_title = simple_cleaner(line)\n",
    "            continue\n",
    "        if line != \"\":\n",
    "            current_lyrics.append(simple_cleaner(line))\n",
    "    \n",
    "    return page_data\n"
   ]
  },
  {
   "cell_type": "code",
   "execution_count": 18,
   "metadata": {},
   "outputs": [
    {
     "name": "stdout",
     "output_type": "stream",
     "text": [
      "270/270\r"
     ]
    }
   ],
   "source": [
    "import json\n",
    "page_data = {**heimsnet(), **snerpa()}\n",
    "with open('./scraped_data.json', 'w', encoding=\"utf-8\") as f:\n",
    "    json.dump(page_data, f, ensure_ascii=False, indent=2)"
   ]
  },
  {
   "cell_type": "code",
   "execution_count": null,
   "metadata": {},
   "outputs": [],
   "source": []
  },
  {
   "cell_type": "code",
   "execution_count": null,
   "metadata": {},
   "outputs": [],
   "source": []
  }
 ],
 "metadata": {
  "kernelspec": {
   "display_name": "Python 3",
   "language": "python",
   "name": "python3"
  },
  "language_info": {
   "codemirror_mode": {
    "name": "ipython",
    "version": 3
   },
   "file_extension": ".py",
   "mimetype": "text/x-python",
   "name": "python",
   "nbconvert_exporter": "python",
   "pygments_lexer": "ipython3",
   "version": "3.11.4"
  }
 },
 "nbformat": 4,
 "nbformat_minor": 2
}
